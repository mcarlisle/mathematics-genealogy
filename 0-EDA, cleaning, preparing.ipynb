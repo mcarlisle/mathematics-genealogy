{
 "cells": [
  {
   "cell_type": "code",
   "execution_count": null,
   "metadata": {},
   "outputs": [],
   "source": [
    "# There are several steps, many of them manual,\n",
    "# in cleaning the MGP data.\n",
    "\n",
    "# First, we load the tab-delimited files, if possible.\n",
    "\n",
    "import matplotlib.pyplot as plt\n",
    "import os\n",
    "import pandas as pd\n",
    "import re\n",
    "from tqdm import tqdm_notebook as tqdm"
   ]
  },
  {
   "cell_type": "code",
   "execution_count": null,
   "metadata": {},
   "outputs": [],
   "source": [
    "academic = pd.read_csv('./MGP_official/geneal_20190711/academic.tsv', sep='\\t')"
   ]
  },
  {
   "cell_type": "code",
   "execution_count": null,
   "metadata": {},
   "outputs": [],
   "source": [
    "advises  = pd.read_csv('./MGP_official/geneal_20190711/advises.tsv', sep='\\t')"
   ]
  },
  {
   "cell_type": "code",
   "execution_count": null,
   "metadata": {},
   "outputs": [],
   "source": [
    "country  = pd.read_csv('./MGP_official/geneal_20190711/country.tsv', sep='\\t')"
   ]
  },
  {
   "cell_type": "code",
   "execution_count": null,
   "metadata": {},
   "outputs": [],
   "source": [
    "degree_grant = pd.read_csv('./MGP_official/geneal_20190711/degree_grant.tsv', sep='\\t')"
   ]
  },
  {
   "cell_type": "code",
   "execution_count": null,
   "metadata": {},
   "outputs": [],
   "source": [
    "school   = pd.read_csv('./MGP_official/geneal_20190711/school.tsv', sep='\\t')"
   ]
  },
  {
   "cell_type": "code",
   "execution_count": null,
   "metadata": {},
   "outputs": [],
   "source": [
    "# These five tables load without a problem.\n",
    "# The degree table, on the other hand, is riddled with issues.\n",
    "\n",
    "#degree   = pd.read_csv('./MGP_official/geneal_20190711/degree.tsv', sep='\\t')\n",
    "degree   = pd.read_csv('./MGP_official/geneal_20190711/degree.csv')\n",
    "#                        dtype={'degree_id': int, 'academic':  int, 'thesis':    str,\n",
    "#                               'year':      int, 'msc':       int, 'degree_type': str })\n",
    "# A note for the MGP: do not allow commas or tabs in the dissertation year field."
   ]
  },
  {
   "cell_type": "code",
   "execution_count": 1,
   "metadata": {},
   "outputs": [],
   "source": [
    "# The degree table required massive amounts \n",
    "# of manual cleaning to clear out excessive commas, quotes, \n",
    "# and other stray characters.\n",
    "\n",
    "# In addition, there were several entries (many over 200 years old)\n",
    "# that listed two dissertations and two degrees in one entry.\n",
    "# These needed to be split, for purposes of counting individual degrees."
   ]
  },
  {
   "cell_type": "code",
   "execution_count": null,
   "metadata": {},
   "outputs": [],
   "source": [
    "for c in degree.columns:\n",
    "    print(f\"{c} has {degree[c].isna().sum()} NA.\")"
   ]
  },
  {
   "cell_type": "code",
   "execution_count": null,
   "metadata": {},
   "outputs": [],
   "source": [
    "# Begin cleaning the degree table.\n",
    "\n",
    "#len(degree['msc'])  # 246,182\n",
    "#degree['msc'].isna().sum()   # 107,998?! Nearly half.\n",
    "degree['msc'] = degree['msc'].fillna(-1)\n",
    "degree['msc'] = degree['msc'].astype('int64')\n",
    "#degree['msc'].value_counts()\n",
    "\n",
    "#degree['year'].isna().sum()\n",
    "degree['year'] = degree['year'].fillna(-1)\n",
    "degree['year'] = degree['year'].astype('int64')\n",
    "#degree['year'].value_counts()\n",
    "\n",
    "#degree['thesis'].isna().sum()\n",
    "degree['thesis'] = degree['thesis'].fillna(\"\")\n",
    "\n",
    "#degree['degree_type'].isna().sum()\n",
    "degree['degree_type'] = degree['degree_type'].fillna(\"\")"
   ]
  },
  {
   "cell_type": "code",
   "execution_count": null,
   "metadata": {},
   "outputs": [],
   "source": [
    "# I found it much easier to read the degree table in line-by-line\n",
    "# to diagnose the issues.\n",
    "with open('./MGP_official/geneal_20190711/degree.csv', 'r') as f:\n",
    "    degree_text = f.readlines()"
   ]
  },
  {
   "cell_type": "code",
   "execution_count": null,
   "metadata": {},
   "outputs": [],
   "source": [
    "regex_old_dual_degree = r\"([0-9]+),([0-9]+),\\\"([^\\\"]+)(;|,)([^\\\"]+)\\\",([0-9]*),([0-9]*),([^,]+),([^,]+)\\n\"\n",
    "find_old = re.compile(regex_old_dual_degree)\n",
    "#replace_old_twoline = r\"\\1,\\2,\n",
    "\n",
    "for d in degree_text:\n",
    "    if find_old.match(d):\n",
    "        print(f\"found in {degree_text.index(d)}: {d}\")"
   ]
  },
  {
   "cell_type": "code",
   "execution_count": null,
   "metadata": {},
   "outputs": [],
   "source": [
    "missing_quote_regex = r\"([0-9]+),([0-9]+),[A-Z]\"\n",
    "missing_quote = re.compile(missing_quote_regex)"
   ]
  },
  {
   "cell_type": "code",
   "execution_count": null,
   "metadata": {},
   "outputs": [],
   "source": [
    "num_commas, num_quotes = [], []\n",
    "idx_commas, idx_quotes = dict(), dict()\n",
    "\n",
    "for i in tqdm(range(len(degree_text))):\n",
    "#for i in error_quotes:\n",
    "    d = degree_text[i]\n",
    "#    if d.count('\"') not in [0,2]:\n",
    "#        remove_thesis = r\"(\\\"[A-Za-z0-9,.;]+\\\")\"\n",
    "#        d = re.sub(remove_thesis, \"\", d)\n",
    "#        print(d)\n",
    "    q = d.count('\"')\n",
    "    num_quotes.append(q)\n",
    "    idx_quotes[q] = idx_quotes.get(q, []) + [i]\n",
    "#    if i % 25000 == 0:\n",
    "#        print(f\"{i} completed.\")\n",
    "print(\"idx_quotes completed.\")\n",
    "\n",
    "# note: this should be tracking \n",
    "# *only* *delimiting* commas, \n",
    "# *not* *all* commas. ah well.\n",
    "for i in tqdm(range(len(degree_text))):\n",
    "#for i in error_commas:\n",
    "    d = degree_text[i]\n",
    "    c = d.count(',')\n",
    "    num_commas.append(c)\n",
    "    idx_commas[c] = idx_commas.get(c, []) + [i]\n",
    "#    if i % 25000 == 0:\n",
    "#        print(f\"{i} completed.\")\n",
    "print(\"idx_commas completed.\")\n"
   ]
  },
  {
   "cell_type": "code",
   "execution_count": null,
   "metadata": {},
   "outputs": [],
   "source": [
    "# A common check on the entries in degree \n",
    "# were the number of commas and double quotes\n",
    "# in the comma-delimited version of the file.\n",
    "quotes, commas = [], []\n",
    "for i in range(0,20):\n",
    "    commas.append(num_commas.count(i))\n",
    "    quotes.append(num_quotes.count(i))\n",
    "print(f\"commas: {commas}\")\n",
    "print(f\"quotes: {quotes}\")"
   ]
  },
  {
   "cell_type": "code",
   "execution_count": null,
   "metadata": {},
   "outputs": [],
   "source": [
    "three_quotes_regex = r\"([0-9]+),([0-9]+),\\\"([^\\\"]+)\\\"([^\\\"]*)\\\",\"\n",
    "three_quotes_fix   = r'\\1,\\2,\"\\3\\4\",'\n",
    "missing_quote = re.compile(missing_quote_regex)\n",
    "#for i in idx_quotes[3]:\n",
    "#    print(f\"{i}: {degree_text[i]}\")\n",
    "#    fixed = re.sub(three_quotes_regex, three_quotes_fix, degree_text[i])\n",
    "#    print(fixed)"
   ]
  },
  {
   "cell_type": "code",
   "execution_count": null,
   "metadata": {},
   "outputs": [],
   "source": [
    "def count_commas_quotes_on_bad(entry):\n",
    "\n",
    "    num_c = entry.count(',')\n",
    "    num_q = entry.count('\"')\n",
    "    first_comma  = entry.index(',')\n",
    "    second_comma = entry[first_comma +1:].index(',')\n",
    "    third_comma  = entry[second_comma+1:].index(',')\n",
    "    print(entry)\n",
    "    print(third_comma)\n",
    "    # for each entry with 0 quotes,\n",
    "    # check if there are any alphabetic characters between commas 2 and 3.\n",
    "#    pass_first_two_fields_regex = r\"([0-9]+),([0-9]+),\"\n",
    "    if num_q == 0 and third_comma == second_comma + 1:\n",
    "        return \"no title\"\n",
    "    # for each entry off 5 commas and >2 quotes, \n",
    "    # count the commas and quotes INSIDE the main quotes.\n"
   ]
  },
  {
   "cell_type": "code",
   "execution_count": null,
   "metadata": {},
   "outputs": [],
   "source": [
    "all_indices  = list(range(len(degree_text)))\n",
    "error_quotes = sorted(list(set(all_indices) - set(idx_quotes[2])))\n",
    "error_commas = sorted(list(set(all_indices) - set(idx_commas[5])))\n",
    "# USE THESE FROM HERE ON TO RESTRICT THE INDICES OF THE ERROR LINES!"
   ]
  },
  {
   "cell_type": "code",
   "execution_count": null,
   "metadata": {},
   "outputs": [],
   "source": [
    "def number_of_pairs(list1, list2):\n",
    "    # return the number of entries in list1 \n",
    "    # that are immediately before an entry in list2.\n",
    "    total = 0\n",
    "    for x in list1:\n",
    "        for y in list2:\n",
    "            if y - x == 1:\n",
    "                total += 1\n",
    "                break\n",
    "    return total"
   ]
  },
  {
   "cell_type": "code",
   "execution_count": null,
   "metadata": {},
   "outputs": [],
   "source": [
    "num_no_MSC = []\n",
    "for i in range(len(degree_text)):\n",
    "    if \",,Ph.D.\" in degree_text[i] and degree_text[i].count('\"') >= 2:\n",
    "        num_no_MSC.append(i)\n",
    "len(num_no_MSC) # this is a lower bound; only the PhDs without MSC"
   ]
  },
  {
   "cell_type": "code",
   "execution_count": null,
   "metadata": {},
   "outputs": [],
   "source": [
    "# let's find out the number of people each of these schools hosted\n",
    "# to see how much it matters that I have these schools or not\n",
    "\n",
    "degrees_granted = []  # will hold pairs: (school_id, # of degrees granted)\n",
    "for s in list(school['school_id']):\n",
    "    degrees_granted.append((s, len(degree_grant[degree_grant['school']==s])))"
   ]
  },
  {
   "cell_type": "code",
   "execution_count": null,
   "metadata": {},
   "outputs": [],
   "source": [
    "degrees_granted = sorted(degrees_granted, key=lambda x: x[1], reverse=True)"
   ]
  },
  {
   "cell_type": "code",
   "execution_count": null,
   "metadata": {},
   "outputs": [],
   "source": [
    "for s in degrees_granted:\n",
    "    name = list(school[school['school_id']==s[0]]['school_name'])[0] # really?\n",
    "    print(f\"{name} has produced {s[1]} degrees listed in the MGP.\")"
   ]
  },
  {
   "cell_type": "code",
   "execution_count": null,
   "metadata": {},
   "outputs": [],
   "source": [
    "total_unlisted = 0\n",
    "for s in degrees_granted:\n",
    "    name = list(school[school['school_id']==s[0]]['school_name'])[0] # really?\n",
    "    if s[0] in school_old_name_ids:\n",
    "        print(f\"{name} has produced {s[1]} degrees listed in the MGP.\")\n",
    "        total_unlisted += s[1]\n",
    "print(f\"Total degrees listed here: {total_unlisted}\")  \n",
    "# 696"
   ]
  },
  {
   "cell_type": "code",
   "execution_count": null,
   "metadata": {},
   "outputs": [],
   "source": [
    "# many other cleaning processes, automatic and manual, not documented here."
   ]
  }
 ],
 "metadata": {
  "kernelspec": {
   "display_name": "Python 3",
   "language": "python",
   "name": "python3"
  },
  "language_info": {
   "codemirror_mode": {
    "name": "ipython",
    "version": 3
   },
   "file_extension": ".py",
   "mimetype": "text/x-python",
   "name": "python",
   "nbconvert_exporter": "python",
   "pygments_lexer": "ipython3",
   "version": "3.6.8"
  }
 },
 "nbformat": 4,
 "nbformat_minor": 2
}
