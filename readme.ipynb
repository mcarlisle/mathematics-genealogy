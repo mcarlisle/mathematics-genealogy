{
 "cells": [
  {
   "cell_type": "markdown",
   "metadata": {},
   "source": [
    "# The Mathematics Genealogy Project: \n",
    "## Where Did I Come From (Mathematically)?\n",
    "    \n",
    "## Michael J. Carlisle, Ph.D.\n",
    "\n",
    "## Flatiron School April 2019 Final Project"
   ]
  },
  {
   "cell_type": "markdown",
   "metadata": {},
   "source": [
    "The primary intent of this project is to create a method for simplified exploration and visualization of the data in the Mathematics Genealogy Project (MGP), located at https://genealogy.math.ndsu.nodak.edu/index.php, a project of North Dakota State University's Department of Mathematics, which has since 1995 been cataloging those individuals who have earned (the equivalent of, historically) a doctorate in mathematics, through the lineage of the \"advisor/advisee\" relationship.\n",
    "\n",
    "At the outset, we would like to address some potential issues with the data used in this project. See the MGP's mission statement at https://genealogy.math.ndsu.nodak.edu/mission.php for details. As the data purports to extend back to the 13th Century (CE), there are not only historical idiosyncracies to address, but some \"smoothing\" of the available data to allow exploration through time."
   ]
  },
  {
   "cell_type": "markdown",
   "metadata": {},
   "source": [
    "The data sets used in this project come from:\n",
    " * Mathematics Genealogy Project (MGP) (https://genealogy.math.ndsu.nodak.edu/index.php)\n",
    " * Mathematics Subject Classification (MSC) 2010 (http://msc2010.org/Default.html)\n",
    " * Google Geocode API (https://developers.google.com/maps/documentation/geocoding/start)\n",
    " \n",
    "The programming tools and APIs used in this project are: \n",
    " * Python\n",
    " * Matplotlib\n",
    " * NumPy\n",
    " * Pandas\n",
    " * scikit-learn\n",
    " * NLTK\n",
    " * Basemap\n",
    " * Google Geocode API\n",
    " * FFMPEG\n",
    " * Bokeh\n",
    " * Plotly Express"
   ]
  },
  {
   "cell_type": "markdown",
   "metadata": {},
   "source": [
    "There are several aspects to this project:\n",
    "\n",
    "0. Clean the data of the MGP to enable analysis and visualizations.\n",
    "1. Collect geographic data (from Google Geocode API) on as many of the schools in the MGP as possible to enable map-based visualizations.\n",
    "2. Using the Geocode data from #1, build visualizations to track the progress of mathematical thought\n",
    "    across the globe over time, using Basemap (https://matplotlib.org/basemap/)\n",
    "    and FFMPEG (https://ffmpeg.org/), on the following parameters:\n",
    "\tA. no restrictions\n",
    "\tB. MSC code\n",
    "\tC. school granting degree\n",
    "\tD. individual academic's \"lineage\" (ancestor = advisor, descendant = PhD student)\n",
    "\tE. individual works over time vs aggregate \"up to this time\" mapping.\n",
    "3. Use NLP to accurately classify a mathematics thesis title via the MSC, to fill in the missing MSC codes in the MGP, and enable the data set available for plotting to be larger. Create a text-based input to classify user-input text into the MSC (after being trained on these titles and the MSC topics).\n",
    "4. Use the newly-classified thesis titles from #3 to build a visualization of categorizations across years and across countries.\n",
    "5. Use NLP clustering to reclassify theses, using the MSC as a guide, into smaller numbers of categories. \n",
    "6. Build a comparison between the relative sizes of two different methods of clustering: LDA and k-means.\n",
    "7. Make it personal: I am interested in mapping my own lineage, to see the geographic and subject landscape of my own mathematical history."
   ]
  },
  {
   "cell_type": "markdown",
   "metadata": {},
   "source": [
    "We'll briefly describe the process and give some code for each step listed here, in separate Jupyter notebooks."
   ]
  }
 ],
 "metadata": {
  "kernelspec": {
   "display_name": "Python 3",
   "language": "python",
   "name": "python3"
  },
  "language_info": {
   "codemirror_mode": {
    "name": "ipython",
    "version": 3
   },
   "file_extension": ".py",
   "mimetype": "text/x-python",
   "name": "python",
   "nbconvert_exporter": "python",
   "pygments_lexer": "ipython3",
   "version": "3.6.8"
  }
 },
 "nbformat": 4,
 "nbformat_minor": 2
}
