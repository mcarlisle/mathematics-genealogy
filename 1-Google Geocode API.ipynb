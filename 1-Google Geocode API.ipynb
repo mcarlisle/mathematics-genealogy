{
 "cells": [
  {
   "cell_type": "code",
   "execution_count": null,
   "metadata": {},
   "outputs": [],
   "source": [
    "# Building the Geocode table:\n",
    "# First, generate the API URLs\n",
    "# Then call them and save the json in a list\n",
    "\n",
    "import requests\n",
    "import google_api_key # you need the file in this folder\n",
    "google_geocode_url = \"https://maps.googleapis.com/maps/api/geocode/json\"\n",
    "\n",
    "\"\"\" input:  school name: str\n",
    "    output: json from Google Geocode API for this school.\"\"\"\n",
    "def get_school_geocode(school_name):\n",
    "    p = {'address': school_name,\n",
    "         'key':   google_api_key.key }\n",
    "    r = requests.get(url = google_geocode_url, params = p)\n",
    "    data = r.json()\n",
    "    # TODO make sure this works!\n",
    "    return data\n",
    "\n",
    "def get_lat_lng(school_json, lat_or_lng='lat'):\n",
    "    try:\n",
    "        return school_json['results'][0]['geometry']['location'][lat_or_lng]\n",
    "    except:\n",
    "        return 0.0  # general catchall"
   ]
  },
  {
   "cell_type": "code",
   "execution_count": null,
   "metadata": {},
   "outputs": [],
   "source": [
    "import pickle\n",
    "# these are the pickled versions of the \n",
    "# school, degree, and degree_grant tables.\n",
    "# we heavily cleaned the degree table in step 0.\n",
    "\n",
    "#with open('school.pickle', 'rb') as f:\n",
    "#    school = pickle.load(f)\n",
    "#with open('degree.pickle', 'rb') as f:\n",
    "#    degree = pickle.load(f)\n",
    "#with open('degree_grant.pickle', 'rb') as f:\n",
    "#    degree_grant = pickle.load(f)"
   ]
  },
  {
   "cell_type": "code",
   "execution_count": null,
   "metadata": {},
   "outputs": [],
   "source": [
    "# this line attempts to collect all Google \n",
    "\n",
    "#school['geocode_json'] = list(map(get_school_geocode, school['school_name']))\n",
    "\n",
    "# lat/lng can be found at ['results'][0]['geometry']['location']['lat'] and ['lng']"
   ]
  },
  {
   "cell_type": "code",
   "execution_count": null,
   "metadata": {},
   "outputs": [],
   "source": [
    "#school.head()\n",
    "\n",
    "#school['lat'] = list(map(lambda x: get_lat_lng(x, 'lat'), school['geocode_json']))\n",
    "#school['lng'] = list(map(lambda x: get_lat_lng(x, 'lng'), school['geocode_json']))"
   ]
  },
  {
   "cell_type": "code",
   "execution_count": null,
   "metadata": {},
   "outputs": [],
   "source": [
    "#with open('school_geocode_df.pickle', 'wb') as f:\n",
    "#    pickle.dump(school, f)\n",
    "#with open('degree_df.pickle', 'wb') as f:\n",
    "#    pickle.dump(degree, f)"
   ]
  },
  {
   "cell_type": "code",
   "execution_count": null,
   "metadata": {},
   "outputs": [],
   "source": [
    "# some schools did not show up in the search. \n",
    "# we note them here.\n",
    "school_old_name = school[school['geocode_json']=={'results': [], 'status': 'ZERO_RESULTS'}]"
   ]
  },
  {
   "cell_type": "code",
   "execution_count": null,
   "metadata": {},
   "outputs": [],
   "source": [
    "school_old_name_ids = list(school_old_name['school_id'])"
   ]
  },
  {
   "cell_type": "code",
   "execution_count": null,
   "metadata": {},
   "outputs": [],
   "source": [
    "len(degree_grant)"
   ]
  },
  {
   "cell_type": "code",
   "execution_count": null,
   "metadata": {},
   "outputs": [],
   "source": [
    "# let's find out the number of people each of these schools hosted\n",
    "# to see how much it matters that I have these schools or not\n",
    "\n",
    "degrees_granted = []  # will hold pairs: (school_id, # of degrees granted)\n",
    "for s in list(school['school_id']):\n",
    "    degrees_granted.append((s, len(degree_grant[degree_grant['school']==s])))"
   ]
  }
 ],
 "metadata": {
  "kernelspec": {
   "display_name": "Python 3",
   "language": "python",
   "name": "python3"
  },
  "language_info": {
   "codemirror_mode": {
    "name": "ipython",
    "version": 3
   },
   "file_extension": ".py",
   "mimetype": "text/x-python",
   "name": "python",
   "nbconvert_exporter": "python",
   "pygments_lexer": "ipython3",
   "version": "3.6.8"
  }
 },
 "nbformat": 4,
 "nbformat_minor": 2
}
