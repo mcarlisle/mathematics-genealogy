{
 "cells": [
  {
   "cell_type": "code",
   "execution_count": null,
   "metadata": {},
   "outputs": [],
   "source": [
    "# Here we will build map visualizations using Basemap,\n",
    "# and use FFMPEG at the command line to build animations \n",
    "# from these Basemap files."
   ]
  },
  {
   "cell_type": "code",
   "execution_count": null,
   "metadata": {},
   "outputs": [],
   "source": [
    "# All the functions for mapping have been saved in the files \n",
    "# mgp_functions.py and mgp_map.py (which imports mgp_functions.py).\n",
    "from mgp_map import *"
   ]
  },
  {
   "cell_type": "code",
   "execution_count": null,
   "metadata": {},
   "outputs": [],
   "source": [
    "# We have loaded degree in importing mgp_map.\n",
    "# We need to prepare degree_with_year: only those degrees with years on them.\n",
    "degree_with_year = degree[degree['year']>-1].copy()"
   ]
  },
  {
   "cell_type": "code",
   "execution_count": null,
   "metadata": {},
   "outputs": [],
   "source": [
    "# This will build a map over all time.\n",
    "ten_year_ranges = build_year_ranges(first=1290, last=2019, inc=10, over=5)\n",
    "binned_degrees  = put_data_under_year_ranges(list(degree_with_year['degree_id']), \n",
    "                                             list(degree_with_year['year']), \n",
    "                                             ten_year_ranges)    \n",
    "binned_schools = bin_schools_by_time_frame(binned_degrees)\n",
    "binned_schools_map_all = restructure_schools_for_map(binned_schools)"
   ]
  },
  {
   "cell_type": "code",
   "execution_count": null,
   "metadata": {},
   "outputs": [],
   "source": [
    "# total number of errors: 4402 out of 444151 placed: \n",
    "# this means that 1% of the mapped schools failed to map (didn't have coordinates)."
   ]
  },
  {
   "cell_type": "code",
   "execution_count": null,
   "metadata": {},
   "outputs": [],
   "source": [
    "generate_mgp_map(school_freq_dict=binned_schools_map_all,\n",
    "                 folder=\"mgp_img/\", fileprefix=\"all_mgp_year\", \n",
    "                 title_prefix=\"All MGP dissertations: \", max_size=100)"
   ]
  },
  {
   "cell_type": "code",
   "execution_count": null,
   "metadata": {},
   "outputs": [],
   "source": [
    "# run the following in the terminal \n",
    "# to generate the animation via ffmpeg in bash\n",
    "!./make_anim 3 all_mgp_year.mp4"
   ]
  },
  {
   "cell_type": "code",
   "execution_count": null,
   "metadata": {},
   "outputs": [],
   "source": []
  },
  {
   "cell_type": "code",
   "execution_count": null,
   "metadata": {},
   "outputs": [],
   "source": [
    "# This will build a map of aggregated dissertations (so the dots persist) over all time.\n",
    "binned_schools_map_all_agg = aggs(degree_with_year, f=1290, l=2019, i=10, o=5)"
   ]
  },
  {
   "cell_type": "code",
   "execution_count": null,
   "metadata": {},
   "outputs": [],
   "source": [
    "generate_mgp_map(school_freq_dict=binned_schools_map_all_agg,\n",
    "                 folder=\"mgp_img/\", fileprefix=\"all_mgp_year_agg\", \n",
    "                 title_prefix=\"All MGP dissertations (aggregate): \", max_size=5000)"
   ]
  },
  {
   "cell_type": "code",
   "execution_count": null,
   "metadata": {},
   "outputs": [],
   "source": [
    "# run the following in the terminal \n",
    "# to generate the animation via ffmpeg in bash\n",
    "!./make_anim 3 all_mgp_year_agg.mp4"
   ]
  },
  {
   "cell_type": "code",
   "execution_count": null,
   "metadata": {},
   "outputs": [],
   "source": []
  }
 ],
 "metadata": {
  "kernelspec": {
   "display_name": "Python 3",
   "language": "python",
   "name": "python3"
  },
  "language_info": {
   "codemirror_mode": {
    "name": "ipython",
    "version": 3
   },
   "file_extension": ".py",
   "mimetype": "text/x-python",
   "name": "python",
   "nbconvert_exporter": "python",
   "pygments_lexer": "ipython3",
   "version": "3.6.8"
  }
 },
 "nbformat": 4,
 "nbformat_minor": 2
}
